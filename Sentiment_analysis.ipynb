{
  "nbformat": 4,
  "nbformat_minor": 0,
  "metadata": {
    "colab": {
      "name": "Sentiment_analysis.ipynb",
      "provenance": [],
      "collapsed_sections": [],
      "toc_visible": true,
      "include_colab_link": true
    },
    "kernelspec": {
      "name": "python3",
      "display_name": "Python 3"
    },
    "accelerator": "GPU"
  },
  "cells": [
    {
      "cell_type": "markdown",
      "metadata": {
        "id": "view-in-github",
        "colab_type": "text"
      },
      "source": [
        "<a href=\"https://colab.research.google.com/github/Chetan-Sagathiya/Twitter_Sentiment_Analysis/blob/master/Sentiment_analysis.ipynb\" target=\"_parent\"><img src=\"https://colab.research.google.com/assets/colab-badge.svg\" alt=\"Open In Colab\"/></a>"
      ]
    },
    {
      "cell_type": "code",
      "metadata": {
        "id": "oYLBv4lp7G85",
        "colab": {
          "base_uri": "https://localhost:8080/"
        },
        "outputId": "a729ca04-6de3-44f0-8975-b29fef0c03e6"
      },
      "source": [
        "from google.colab import drive\n",
        "drive.mount('/content/drive')"
      ],
      "execution_count": 1,
      "outputs": [
        {
          "output_type": "stream",
          "text": [
            "Mounted at /content/drive\n"
          ],
          "name": "stdout"
        }
      ]
    },
    {
      "cell_type": "code",
      "metadata": {
        "id": "bcDJhBF_mgOw"
      },
      "source": [
        "import spacy\n",
        "import pandas as pd\n",
        "import numpy as np\n",
        "import matplotlib.pyplot as plt\n",
        "import seaborn as sns\n",
        "import pickle"
      ],
      "execution_count": 2,
      "outputs": []
    },
    {
      "cell_type": "code",
      "metadata": {
        "id": "CBZudjgdmnWO"
      },
      "source": [
        "import en_core_web_sm\n",
        "nlp = en_core_web_sm.load()"
      ],
      "execution_count": 3,
      "outputs": []
    },
    {
      "cell_type": "code",
      "metadata": {
        "colab": {
          "base_uri": "https://localhost:8080/",
          "height": 402
        },
        "id": "2rVsJ_g3ndbr",
        "outputId": "683a346d-1c3d-461a-a7ca-d2c8004551a0"
      },
      "source": [
        "data = pd.read_csv(\"/content/drive/MyDrive/ml_datasets/twitter_sentiment_dataset/train.csv\")\n",
        "data"
      ],
      "execution_count": 4,
      "outputs": [
        {
          "output_type": "execute_result",
          "data": {
            "text/html": [
              "<div>\n",
              "<style scoped>\n",
              "    .dataframe tbody tr th:only-of-type {\n",
              "        vertical-align: middle;\n",
              "    }\n",
              "\n",
              "    .dataframe tbody tr th {\n",
              "        vertical-align: top;\n",
              "    }\n",
              "\n",
              "    .dataframe thead th {\n",
              "        text-align: right;\n",
              "    }\n",
              "</style>\n",
              "<table border=\"1\" class=\"dataframe\">\n",
              "  <thead>\n",
              "    <tr style=\"text-align: right;\">\n",
              "      <th></th>\n",
              "      <th>id</th>\n",
              "      <th>label</th>\n",
              "      <th>tweet</th>\n",
              "    </tr>\n",
              "  </thead>\n",
              "  <tbody>\n",
              "    <tr>\n",
              "      <th>0</th>\n",
              "      <td>1</td>\n",
              "      <td>0</td>\n",
              "      <td>@user when a father is dysfunctional and is s...</td>\n",
              "    </tr>\n",
              "    <tr>\n",
              "      <th>1</th>\n",
              "      <td>2</td>\n",
              "      <td>0</td>\n",
              "      <td>@user @user thanks for #lyft credit i can't us...</td>\n",
              "    </tr>\n",
              "    <tr>\n",
              "      <th>2</th>\n",
              "      <td>3</td>\n",
              "      <td>0</td>\n",
              "      <td>bihday your majesty</td>\n",
              "    </tr>\n",
              "    <tr>\n",
              "      <th>3</th>\n",
              "      <td>4</td>\n",
              "      <td>0</td>\n",
              "      <td>#model   i love u take with u all the time in ...</td>\n",
              "    </tr>\n",
              "    <tr>\n",
              "      <th>4</th>\n",
              "      <td>5</td>\n",
              "      <td>0</td>\n",
              "      <td>factsguide: society now    #motivation</td>\n",
              "    </tr>\n",
              "    <tr>\n",
              "      <th>...</th>\n",
              "      <td>...</td>\n",
              "      <td>...</td>\n",
              "      <td>...</td>\n",
              "    </tr>\n",
              "    <tr>\n",
              "      <th>31957</th>\n",
              "      <td>31958</td>\n",
              "      <td>0</td>\n",
              "      <td>ate @user isz that youuu?ðððððð...</td>\n",
              "    </tr>\n",
              "    <tr>\n",
              "      <th>31958</th>\n",
              "      <td>31959</td>\n",
              "      <td>0</td>\n",
              "      <td>to see nina turner on the airwaves trying to...</td>\n",
              "    </tr>\n",
              "    <tr>\n",
              "      <th>31959</th>\n",
              "      <td>31960</td>\n",
              "      <td>0</td>\n",
              "      <td>listening to sad songs on a monday morning otw...</td>\n",
              "    </tr>\n",
              "    <tr>\n",
              "      <th>31960</th>\n",
              "      <td>31961</td>\n",
              "      <td>1</td>\n",
              "      <td>@user #sikh #temple vandalised in in #calgary,...</td>\n",
              "    </tr>\n",
              "    <tr>\n",
              "      <th>31961</th>\n",
              "      <td>31962</td>\n",
              "      <td>0</td>\n",
              "      <td>thank you @user for you follow</td>\n",
              "    </tr>\n",
              "  </tbody>\n",
              "</table>\n",
              "<p>31962 rows × 3 columns</p>\n",
              "</div>"
            ],
            "text/plain": [
              "          id  label                                              tweet\n",
              "0          1      0   @user when a father is dysfunctional and is s...\n",
              "1          2      0  @user @user thanks for #lyft credit i can't us...\n",
              "2          3      0                                bihday your majesty\n",
              "3          4      0  #model   i love u take with u all the time in ...\n",
              "4          5      0             factsguide: society now    #motivation\n",
              "...      ...    ...                                                ...\n",
              "31957  31958      0  ate @user isz that youuu?ðððððð...\n",
              "31958  31959      0    to see nina turner on the airwaves trying to...\n",
              "31959  31960      0  listening to sad songs on a monday morning otw...\n",
              "31960  31961      1  @user #sikh #temple vandalised in in #calgary,...\n",
              "31961  31962      0                   thank you @user for you follow  \n",
              "\n",
              "[31962 rows x 3 columns]"
            ]
          },
          "metadata": {
            "tags": []
          },
          "execution_count": 4
        }
      ]
    },
    {
      "cell_type": "code",
      "metadata": {
        "colab": {
          "base_uri": "https://localhost:8080/",
          "height": 330
        },
        "id": "Bz9utiXmoElg",
        "outputId": "8c029419-28bc-418d-c9f7-e1a116814022"
      },
      "source": [
        "print(data['label'].value_counts())\n",
        "sns.countplot(data = data, x= 'label')\n",
        "plt.show()"
      ],
      "execution_count": 5,
      "outputs": [
        {
          "output_type": "stream",
          "text": [
            "0    29720\n",
            "1     2242\n",
            "Name: label, dtype: int64\n"
          ],
          "name": "stdout"
        },
        {
          "output_type": "display_data",
          "data": {
            "image/png": "[encoded data removed]",
            "text/plain": [
              "<Figure size 432x288 with 1 Axes>"
            ]
          },
          "metadata": {
            "tags": [],
            "needs_background": "light"
          }
        }
      ]
    },
    {
      "cell_type": "code",
      "metadata": {
        "colab": {
          "base_uri": "https://localhost:8080/"
        },
        "id": "pPvvu7dvoePM",
        "outputId": "a07a9ec4-2812-411b-86f6-62ef998f0530"
      },
      "source": [
        "data.isnull().sum()"
      ],
      "execution_count": 6,
      "outputs": [
        {
          "output_type": "execute_result",
          "data": {
            "text/plain": [
              "id       0\n",
              "label    0\n",
              "tweet    0\n",
              "dtype: int64"
            ]
          },
          "metadata": {
            "tags": []
          },
          "execution_count": 6
        }
      ]
    },
    {
      "cell_type": "code",
      "metadata": {
        "colab": {
          "base_uri": "https://localhost:8080/"
        },
        "id": "19Hkqu1fog7A",
        "outputId": "3825e747-0082-4f21-ae73-ce2240b59210"
      },
      "source": [
        "import re\n",
        "import nltk\n",
        "from nltk.corpus import stopwords\n",
        "from nltk.stem import WordNetLemmatizer\n",
        "nltk.download('punkt')\n",
        "nltk.download('stopwords')\n",
        "nltk.download('wordnet')"
      ],
      "execution_count": 7,
      "outputs": [
        {
          "output_type": "stream",
          "text": [
            "[nltk_data] Downloading package punkt to /root/nltk_data...\n",
            "[nltk_data]   Unzipping tokenizers/punkt.zip.\n",
            "[nltk_data] Downloading package stopwords to /root/nltk_data...\n",
            "[nltk_data]   Unzipping corpora/stopwords.zip.\n",
            "[nltk_data] Downloading package wordnet to /root/nltk_data...\n",
            "[nltk_data]   Unzipping corpora/wordnet.zip.\n"
          ],
          "name": "stdout"
        },
        {
          "output_type": "execute_result",
          "data": {
            "text/plain": [
              "True"
            ]
          },
          "metadata": {
            "tags": []
          },
          "execution_count": 7
        }
      ]
    },
    {
      "cell_type": "code",
      "metadata": {
        "id": "Nz30Dsq5olx1"
      },
      "source": [
        "wordnet = WordNetLemmatizer()\n",
        "def clean_tweets(df):\n",
        "  tempArr = []\n",
        "  for lines in df:\n",
        "    tweet = re.sub(r\"[^a-zA-Z]+\", ' ', lines)\n",
        "    tweet = tweet.lower()\n",
        "    tweet = tweet.split()\n",
        "    tweet = [wordnet.lemmatize(word) for word in tweet if not word in set(stopwords.words('english'))]\n",
        "    if len(tweet) == 0:\n",
        "      # if all the words im tweet are stopwords then\n",
        "      tweet = 'I'\n",
        "    else:\n",
        "      tweet = ' '.join(tweet)\n",
        "    tweet\n",
        "    tempArr.append(tweet)\n",
        "  return tempArr"
      ],
      "execution_count": 8,
      "outputs": []
    },
    {
      "cell_type": "code",
      "metadata": {
        "colab": {
          "base_uri": "https://localhost:8080/",
          "height": 402
        },
        "id": "TaOhFbXlG4iW",
        "outputId": "4cc54f9c-db49-4b4e-8881-5ec6bef8a7d6"
      },
      "source": [
        "cleaned_tweets = clean_tweets(data['tweet']) \n",
        "cleaned_tweets = pd.DataFrame(cleaned_tweets, columns = ['cleaned_tweets'])\n",
        "cleaned_tweets"
      ],
      "execution_count": 9,
      "outputs": [
        {
          "output_type": "execute_result",
          "data": {
            "text/html": [
              "<div>\n",
              "<style scoped>\n",
              "    .dataframe tbody tr th:only-of-type {\n",
              "        vertical-align: middle;\n",
              "    }\n",
              "\n",
              "    .dataframe tbody tr th {\n",
              "        vertical-align: top;\n",
              "    }\n",
              "\n",
              "    .dataframe thead th {\n",
              "        text-align: right;\n",
              "    }\n",
              "</style>\n",
              "<table border=\"1\" class=\"dataframe\">\n",
              "  <thead>\n",
              "    <tr style=\"text-align: right;\">\n",
              "      <th></th>\n",
              "      <th>cleaned_tweets</th>\n",
              "    </tr>\n",
              "  </thead>\n",
              "  <tbody>\n",
              "    <tr>\n",
              "      <th>0</th>\n",
              "      <td>user father dysfunctional selfish drag kid dys...</td>\n",
              "    </tr>\n",
              "    <tr>\n",
              "      <th>1</th>\n",
              "      <td>user user thanks lyft credit use cause offer w...</td>\n",
              "    </tr>\n",
              "    <tr>\n",
              "      <th>2</th>\n",
              "      <td>bihday majesty</td>\n",
              "    </tr>\n",
              "    <tr>\n",
              "      <th>3</th>\n",
              "      <td>model love u take u time ur</td>\n",
              "    </tr>\n",
              "    <tr>\n",
              "      <th>4</th>\n",
              "      <td>factsguide society motivation</td>\n",
              "    </tr>\n",
              "    <tr>\n",
              "      <th>...</th>\n",
              "      <td>...</td>\n",
              "    </tr>\n",
              "    <tr>\n",
              "      <th>31957</th>\n",
              "      <td>ate user isz youuu</td>\n",
              "    </tr>\n",
              "    <tr>\n",
              "      <th>31958</th>\n",
              "      <td>see nina turner airwave trying wrap mantle gen...</td>\n",
              "    </tr>\n",
              "    <tr>\n",
              "      <th>31959</th>\n",
              "      <td>listening sad song monday morning otw work sad</td>\n",
              "    </tr>\n",
              "    <tr>\n",
              "      <th>31960</th>\n",
              "      <td>user sikh temple vandalised calgary wso condem...</td>\n",
              "    </tr>\n",
              "    <tr>\n",
              "      <th>31961</th>\n",
              "      <td>thank user follow</td>\n",
              "    </tr>\n",
              "  </tbody>\n",
              "</table>\n",
              "<p>31962 rows × 1 columns</p>\n",
              "</div>"
            ],
            "text/plain": [
              "                                          cleaned_tweets\n",
              "0      user father dysfunctional selfish drag kid dys...\n",
              "1      user user thanks lyft credit use cause offer w...\n",
              "2                                         bihday majesty\n",
              "3                            model love u take u time ur\n",
              "4                          factsguide society motivation\n",
              "...                                                  ...\n",
              "31957                                 ate user isz youuu\n",
              "31958  see nina turner airwave trying wrap mantle gen...\n",
              "31959     listening sad song monday morning otw work sad\n",
              "31960  user sikh temple vandalised calgary wso condem...\n",
              "31961                                  thank user follow\n",
              "\n",
              "[31962 rows x 1 columns]"
            ]
          },
          "metadata": {
            "tags": []
          },
          "execution_count": 9
        }
      ]
    },
    {
      "cell_type": "code",
      "metadata": {
        "colab": {
          "base_uri": "https://localhost:8080/",
          "height": 195
        },
        "id": "69amJBTsop4a",
        "outputId": "f7c0a175-a604-418f-ac80-083385970d37"
      },
      "source": [
        "data = pd.concat([data, cleaned_tweets], axis=1)\n",
        "data.head()"
      ],
      "execution_count": 10,
      "outputs": [
        {
          "output_type": "execute_result",
          "data": {
            "text/html": [
              "<div>\n",
              "<style scoped>\n",
              "    .dataframe tbody tr th:only-of-type {\n",
              "        vertical-align: middle;\n",
              "    }\n",
              "\n",
              "    .dataframe tbody tr th {\n",
              "        vertical-align: top;\n",
              "    }\n",
              "\n",
              "    .dataframe thead th {\n",
              "        text-align: right;\n",
              "    }\n",
              "</style>\n",
              "<table border=\"1\" class=\"dataframe\">\n",
              "  <thead>\n",
              "    <tr style=\"text-align: right;\">\n",
              "      <th></th>\n",
              "      <th>id</th>\n",
              "      <th>label</th>\n",
              "      <th>tweet</th>\n",
              "      <th>cleaned_tweets</th>\n",
              "    </tr>\n",
              "  </thead>\n",
              "  <tbody>\n",
              "    <tr>\n",
              "      <th>0</th>\n",
              "      <td>1</td>\n",
              "      <td>0</td>\n",
              "      <td>@user when a father is dysfunctional and is s...</td>\n",
              "      <td>user father dysfunctional selfish drag kid dys...</td>\n",
              "    </tr>\n",
              "    <tr>\n",
              "      <th>1</th>\n",
              "      <td>2</td>\n",
              "      <td>0</td>\n",
              "      <td>@user @user thanks for #lyft credit i can't us...</td>\n",
              "      <td>user user thanks lyft credit use cause offer w...</td>\n",
              "    </tr>\n",
              "    <tr>\n",
              "      <th>2</th>\n",
              "      <td>3</td>\n",
              "      <td>0</td>\n",
              "      <td>bihday your majesty</td>\n",
              "      <td>bihday majesty</td>\n",
              "    </tr>\n",
              "    <tr>\n",
              "      <th>3</th>\n",
              "      <td>4</td>\n",
              "      <td>0</td>\n",
              "      <td>#model   i love u take with u all the time in ...</td>\n",
              "      <td>model love u take u time ur</td>\n",
              "    </tr>\n",
              "    <tr>\n",
              "      <th>4</th>\n",
              "      <td>5</td>\n",
              "      <td>0</td>\n",
              "      <td>factsguide: society now    #motivation</td>\n",
              "      <td>factsguide society motivation</td>\n",
              "    </tr>\n",
              "  </tbody>\n",
              "</table>\n",
              "</div>"
            ],
            "text/plain": [
              "   id  ...                                     cleaned_tweets\n",
              "0   1  ...  user father dysfunctional selfish drag kid dys...\n",
              "1   2  ...  user user thanks lyft credit use cause offer w...\n",
              "2   3  ...                                     bihday majesty\n",
              "3   4  ...                        model love u take u time ur\n",
              "4   5  ...                      factsguide society motivation\n",
              "\n",
              "[5 rows x 4 columns]"
            ]
          },
          "metadata": {
            "tags": []
          },
          "execution_count": 10
        }
      ]
    },
    {
      "cell_type": "code",
      "metadata": {
        "id": "pohVC22sosb5"
      },
      "source": [
        "def get_vec(tweet):\n",
        "  vec = nlp(tweet).vector\n",
        "  return vec"
      ],
      "execution_count": 11,
      "outputs": []
    },
    {
      "cell_type": "code",
      "metadata": {
        "colab": {
          "base_uri": "https://localhost:8080/",
          "height": 195
        },
        "id": "BwKsws0bLZNM",
        "outputId": "d35363e9-85cc-4dc7-dd71-f240bb80cdc7"
      },
      "source": [
        "data['vector'] = data['cleaned_tweets'].apply(lambda x: get_vec(x))\n",
        "data.head()"
      ],
      "execution_count": 12,
      "outputs": [
        {
          "output_type": "execute_result",
          "data": {
            "text/html": [
              "<div>\n",
              "<style scoped>\n",
              "    .dataframe tbody tr th:only-of-type {\n",
              "        vertical-align: middle;\n",
              "    }\n",
              "\n",
              "    .dataframe tbody tr th {\n",
              "        vertical-align: top;\n",
              "    }\n",
              "\n",
              "    .dataframe thead th {\n",
              "        text-align: right;\n",
              "    }\n",
              "</style>\n",
              "<table border=\"1\" class=\"dataframe\">\n",
              "  <thead>\n",
              "    <tr style=\"text-align: right;\">\n",
              "      <th></th>\n",
              "      <th>id</th>\n",
              "      <th>label</th>\n",
              "      <th>tweet</th>\n",
              "      <th>cleaned_tweets</th>\n",
              "      <th>vector</th>\n",
              "    </tr>\n",
              "  </thead>\n",
              "  <tbody>\n",
              "    <tr>\n",
              "      <th>0</th>\n",
              "      <td>1</td>\n",
              "      <td>0</td>\n",
              "      <td>@user when a father is dysfunctional and is s...</td>\n",
              "      <td>user father dysfunctional selfish drag kid dys...</td>\n",
              "      <td>[0.4842372, -0.06366028, -1.8760673, 1.5139647...</td>\n",
              "    </tr>\n",
              "    <tr>\n",
              "      <th>1</th>\n",
              "      <td>2</td>\n",
              "      <td>0</td>\n",
              "      <td>@user @user thanks for #lyft credit i can't us...</td>\n",
              "      <td>user user thanks lyft credit use cause offer w...</td>\n",
              "      <td>[0.25390026, 0.040692586, -0.7003227, 1.487928...</td>\n",
              "    </tr>\n",
              "    <tr>\n",
              "      <th>2</th>\n",
              "      <td>3</td>\n",
              "      <td>0</td>\n",
              "      <td>bihday your majesty</td>\n",
              "      <td>bihday majesty</td>\n",
              "      <td>[1.5038044, -3.6027033, 0.57702637, 1.0233208,...</td>\n",
              "    </tr>\n",
              "    <tr>\n",
              "      <th>3</th>\n",
              "      <td>4</td>\n",
              "      <td>0</td>\n",
              "      <td>#model   i love u take with u all the time in ...</td>\n",
              "      <td>model love u take u time ur</td>\n",
              "      <td>[0.50754863, -1.1472391, 0.3886793, -0.3016174...</td>\n",
              "    </tr>\n",
              "    <tr>\n",
              "      <th>4</th>\n",
              "      <td>5</td>\n",
              "      <td>0</td>\n",
              "      <td>factsguide: society now    #motivation</td>\n",
              "      <td>factsguide society motivation</td>\n",
              "      <td>[1.001973, -1.840333, -1.8968383, 0.4452219, 0...</td>\n",
              "    </tr>\n",
              "  </tbody>\n",
              "</table>\n",
              "</div>"
            ],
            "text/plain": [
              "   id  ...                                             vector\n",
              "0   1  ...  [0.4842372, -0.06366028, -1.8760673, 1.5139647...\n",
              "1   2  ...  [0.25390026, 0.040692586, -0.7003227, 1.487928...\n",
              "2   3  ...  [1.5038044, -3.6027033, 0.57702637, 1.0233208,...\n",
              "3   4  ...  [0.50754863, -1.1472391, 0.3886793, -0.3016174...\n",
              "4   5  ...  [1.001973, -1.840333, -1.8968383, 0.4452219, 0...\n",
              "\n",
              "[5 rows x 5 columns]"
            ]
          },
          "metadata": {
            "tags": []
          },
          "execution_count": 12
        }
      ]
    },
    {
      "cell_type": "code",
      "metadata": {
        "colab": {
          "base_uri": "https://localhost:8080/"
        },
        "id": "L67ssa0XhYWZ",
        "outputId": "70a9c1e9-55a4-49ad-eb31-6508dc7dbd8b"
      },
      "source": [
        "X = data['vector'].to_numpy()\n",
        "X = X.reshape(-1,1)\n",
        "X.shape"
      ],
      "execution_count": 16,
      "outputs": [
        {
          "output_type": "execute_result",
          "data": {
            "text/plain": [
              "(31962, 1)"
            ]
          },
          "metadata": {
            "tags": []
          },
          "execution_count": 16
        }
      ]
    },
    {
      "cell_type": "code",
      "metadata": {
        "colab": {
          "base_uri": "https://localhost:8080/"
        },
        "id": "A8KhxqctOgfp",
        "outputId": "c3745fde-b9f7-4023-8d43-973daf9b6bf6"
      },
      "source": [
        "X = np.concatenate(np.concatenate(X, axis=0), axis=0).reshape(-1, 96)\n",
        "X.shape"
      ],
      "execution_count": 17,
      "outputs": [
        {
          "output_type": "execute_result",
          "data": {
            "text/plain": [
              "(31962, 96)"
            ]
          },
          "metadata": {
            "tags": []
          },
          "execution_count": 17
        }
      ]
    },
    {
      "cell_type": "code",
      "metadata": {
        "colab": {
          "base_uri": "https://localhost:8080/"
        },
        "id": "ZJMhDQvsrsHX",
        "outputId": "ab461d38-eda9-4200-a6a3-e141a74988b8"
      },
      "source": [
        "y = data['label']\n",
        "y.shape"
      ],
      "execution_count": 18,
      "outputs": [
        {
          "output_type": "execute_result",
          "data": {
            "text/plain": [
              "(31962,)"
            ]
          },
          "metadata": {
            "tags": []
          },
          "execution_count": 18
        }
      ]
    },
    {
      "cell_type": "code",
      "metadata": {
        "id": "AsRHVS0rHqNn",
        "outputId": "31c3c48d-e3da-4e4a-abef-d5155223cdbe",
        "colab": {
          "base_uri": "https://localhost:8080/"
        }
      },
      "source": [
        "from imblearn.combine import SMOTETomek"
      ],
      "execution_count": 19,
      "outputs": [
        {
          "output_type": "stream",
          "text": [
            "/usr/local/lib/python3.7/dist-packages/sklearn/externals/six.py:31: FutureWarning: The module is deprecated in version 0.21 and will be removed in version 0.23 since we've dropped support for Python 2.7. Please rely on the official version of six (https://pypi.org/project/six/).\n",
            "  \"(https://pypi.org/project/six/).\", FutureWarning)\n",
            "/usr/local/lib/python3.7/dist-packages/sklearn/utils/deprecation.py:144: FutureWarning: The sklearn.neighbors.base module is  deprecated in version 0.22 and will be removed in version 0.24. The corresponding classes / functions should instead be imported from sklearn.neighbors. Anything that cannot be imported from sklearn.neighbors is now part of the private API.\n",
            "  warnings.warn(message, FutureWarning)\n"
          ],
          "name": "stderr"
        }
      ]
    },
    {
      "cell_type": "code",
      "metadata": {
        "id": "5bnp2qxjIbsu",
        "outputId": "158863ce-0720-461b-8461-3a814dc7dec8",
        "colab": {
          "base_uri": "https://localhost:8080/"
        }
      },
      "source": [
        "smote = SMOTETomek(0.9)\n",
        "X_smote, y_smote = smote.fit_sample(X, y)"
      ],
      "execution_count": 20,
      "outputs": [
        {
          "output_type": "stream",
          "text": [
            "/usr/local/lib/python3.7/dist-packages/sklearn/utils/deprecation.py:87: FutureWarning: Function safe_indexing is deprecated; safe_indexing is deprecated in version 0.22 and will be removed in version 0.24.\n",
            "  warnings.warn(msg, category=FutureWarning)\n",
            "/usr/local/lib/python3.7/dist-packages/sklearn/utils/deprecation.py:87: FutureWarning: Function safe_indexing is deprecated; safe_indexing is deprecated in version 0.22 and will be removed in version 0.24.\n",
            "  warnings.warn(msg, category=FutureWarning)\n"
          ],
          "name": "stderr"
        }
      ]
    },
    {
      "cell_type": "code",
      "metadata": {
        "id": "r2WAPgm_IlVd",
        "outputId": "c0acc0e9-2e2a-44d2-d6c3-e3b004125df5",
        "colab": {
          "base_uri": "https://localhost:8080/"
        }
      },
      "source": [
        "X_smote.shape, y_smote.shape"
      ],
      "execution_count": 21,
      "outputs": [
        {
          "output_type": "execute_result",
          "data": {
            "text/plain": [
              "((56468, 96), (56468,))"
            ]
          },
          "metadata": {
            "tags": []
          },
          "execution_count": 21
        }
      ]
    },
    {
      "cell_type": "code",
      "metadata": {
        "id": "VgWHWEEzLdni",
        "outputId": "f33f983c-d479-4c7a-d75b-aaebdac7657f",
        "colab": {
          "base_uri": "https://localhost:8080/"
        }
      },
      "source": [
        "unique, counts = np.unique(y_smote, return_counts=True)\n",
        "unique, counts\n"
      ],
      "execution_count": 25,
      "outputs": [
        {
          "output_type": "execute_result",
          "data": {
            "text/plain": [
              "(array([0, 1]), array([29720, 26748]))"
            ]
          },
          "metadata": {
            "tags": []
          },
          "execution_count": 25
        }
      ]
    },
    {
      "cell_type": "code",
      "metadata": {
        "id": "pL5UvFTeYlVo",
        "colab": {
          "base_uri": "https://localhost:8080/",
          "height": 261
        },
        "outputId": "d6baf512-0023-4945-97e4-79d1daca365e"
      },
      "source": [
        "X_smote = pd.DataFrame(data=X_smote)\n",
        "print(X_smote.shape)\n",
        "X_smote.head()"
      ],
      "execution_count": 26,
      "outputs": [
        {
          "output_type": "stream",
          "text": [
            "(56468, 96)\n"
          ],
          "name": "stdout"
        },
        {
          "output_type": "execute_result",
          "data": {
            "text/html": [
              "<div>\n",
              "<style scoped>\n",
              "    .dataframe tbody tr th:only-of-type {\n",
              "        vertical-align: middle;\n",
              "    }\n",
              "\n",
              "    .dataframe tbody tr th {\n",
              "        vertical-align: top;\n",
              "    }\n",
              "\n",
              "    .dataframe thead th {\n",
              "        text-align: right;\n",
              "    }\n",
              "</style>\n",
              "<table border=\"1\" class=\"dataframe\">\n",
              "  <thead>\n",
              "    <tr style=\"text-align: right;\">\n",
              "      <th></th>\n",
              "      <th>0</th>\n",
              "      <th>1</th>\n",
              "      <th>2</th>\n",
              "      <th>3</th>\n",
              "      <th>4</th>\n",
              "      <th>5</th>\n",
              "      <th>6</th>\n",
              "      <th>7</th>\n",
              "      <th>8</th>\n",
              "      <th>9</th>\n",
              "      <th>10</th>\n",
              "      <th>11</th>\n",
              "      <th>12</th>\n",
              "      <th>13</th>\n",
              "      <th>14</th>\n",
              "      <th>15</th>\n",
              "      <th>16</th>\n",
              "      <th>17</th>\n",
              "      <th>18</th>\n",
              "      <th>19</th>\n",
              "      <th>20</th>\n",
              "      <th>21</th>\n",
              "      <th>22</th>\n",
              "      <th>23</th>\n",
              "      <th>24</th>\n",
              "      <th>25</th>\n",
              "      <th>26</th>\n",
              "      <th>27</th>\n",
              "      <th>28</th>\n",
              "      <th>29</th>\n",
              "      <th>30</th>\n",
              "      <th>31</th>\n",
              "      <th>32</th>\n",
              "      <th>33</th>\n",
              "      <th>34</th>\n",
              "      <th>35</th>\n",
              "      <th>36</th>\n",
              "      <th>37</th>\n",
              "      <th>38</th>\n",
              "      <th>39</th>\n",
              "      <th>...</th>\n",
              "      <th>56</th>\n",
              "      <th>57</th>\n",
              "      <th>58</th>\n",
              "      <th>59</th>\n",
              "      <th>60</th>\n",
              "      <th>61</th>\n",
              "      <th>62</th>\n",
              "      <th>63</th>\n",
              "      <th>64</th>\n",
              "      <th>65</th>\n",
              "      <th>66</th>\n",
              "      <th>67</th>\n",
              "      <th>68</th>\n",
              "      <th>69</th>\n",
              "      <th>70</th>\n",
              "      <th>71</th>\n",
              "      <th>72</th>\n",
              "      <th>73</th>\n",
              "      <th>74</th>\n",
              "      <th>75</th>\n",
              "      <th>76</th>\n",
              "      <th>77</th>\n",
              "      <th>78</th>\n",
              "      <th>79</th>\n",
              "      <th>80</th>\n",
              "      <th>81</th>\n",
              "      <th>82</th>\n",
              "      <th>83</th>\n",
              "      <th>84</th>\n",
              "      <th>85</th>\n",
              "      <th>86</th>\n",
              "      <th>87</th>\n",
              "      <th>88</th>\n",
              "      <th>89</th>\n",
              "      <th>90</th>\n",
              "      <th>91</th>\n",
              "      <th>92</th>\n",
              "      <th>93</th>\n",
              "      <th>94</th>\n",
              "      <th>95</th>\n",
              "    </tr>\n",
              "  </thead>\n",
              "  <tbody>\n",
              "    <tr>\n",
              "      <th>0</th>\n",
              "      <td>0.484237</td>\n",
              "      <td>-0.063660</td>\n",
              "      <td>-1.876067</td>\n",
              "      <td>1.513965</td>\n",
              "      <td>0.903164</td>\n",
              "      <td>1.085821</td>\n",
              "      <td>-1.039162</td>\n",
              "      <td>0.685801</td>\n",
              "      <td>0.748216</td>\n",
              "      <td>1.514805</td>\n",
              "      <td>1.501953</td>\n",
              "      <td>-0.042835</td>\n",
              "      <td>2.132077</td>\n",
              "      <td>-1.908023</td>\n",
              "      <td>-0.976331</td>\n",
              "      <td>-1.245049</td>\n",
              "      <td>-0.208043</td>\n",
              "      <td>0.849614</td>\n",
              "      <td>-0.609904</td>\n",
              "      <td>-1.237363</td>\n",
              "      <td>1.884879</td>\n",
              "      <td>-0.274585</td>\n",
              "      <td>-0.733649</td>\n",
              "      <td>0.287821</td>\n",
              "      <td>-1.256699</td>\n",
              "      <td>-0.696546</td>\n",
              "      <td>-0.104079</td>\n",
              "      <td>-1.575460</td>\n",
              "      <td>2.648796</td>\n",
              "      <td>-2.156358</td>\n",
              "      <td>1.189674</td>\n",
              "      <td>-0.837486</td>\n",
              "      <td>0.880723</td>\n",
              "      <td>-0.984216</td>\n",
              "      <td>-0.601586</td>\n",
              "      <td>-1.802475</td>\n",
              "      <td>3.335490</td>\n",
              "      <td>-2.297085</td>\n",
              "      <td>-0.844811</td>\n",
              "      <td>0.936667</td>\n",
              "      <td>...</td>\n",
              "      <td>1.093273</td>\n",
              "      <td>0.847932</td>\n",
              "      <td>-0.181751</td>\n",
              "      <td>-0.371594</td>\n",
              "      <td>-0.102845</td>\n",
              "      <td>-1.424522</td>\n",
              "      <td>0.279691</td>\n",
              "      <td>0.633065</td>\n",
              "      <td>1.544120</td>\n",
              "      <td>0.069165</td>\n",
              "      <td>0.629969</td>\n",
              "      <td>-0.999094</td>\n",
              "      <td>0.000336</td>\n",
              "      <td>2.163558</td>\n",
              "      <td>-0.339158</td>\n",
              "      <td>0.529853</td>\n",
              "      <td>0.906810</td>\n",
              "      <td>-0.103161</td>\n",
              "      <td>-1.857458</td>\n",
              "      <td>-0.945921</td>\n",
              "      <td>1.038766</td>\n",
              "      <td>-1.668507</td>\n",
              "      <td>-1.041669</td>\n",
              "      <td>0.459283</td>\n",
              "      <td>1.966843</td>\n",
              "      <td>-2.309974</td>\n",
              "      <td>-0.842470</td>\n",
              "      <td>-0.916354</td>\n",
              "      <td>1.212302</td>\n",
              "      <td>1.671487</td>\n",
              "      <td>-0.094677</td>\n",
              "      <td>-1.003883</td>\n",
              "      <td>-0.850711</td>\n",
              "      <td>0.440807</td>\n",
              "      <td>1.260222</td>\n",
              "      <td>1.310729</td>\n",
              "      <td>-0.524814</td>\n",
              "      <td>1.391378</td>\n",
              "      <td>0.542819</td>\n",
              "      <td>0.759497</td>\n",
              "    </tr>\n",
              "    <tr>\n",
              "      <th>1</th>\n",
              "      <td>0.253900</td>\n",
              "      <td>0.040693</td>\n",
              "      <td>-0.700323</td>\n",
              "      <td>1.487928</td>\n",
              "      <td>1.369673</td>\n",
              "      <td>0.700741</td>\n",
              "      <td>-0.847729</td>\n",
              "      <td>1.377118</td>\n",
              "      <td>0.469435</td>\n",
              "      <td>2.750267</td>\n",
              "      <td>0.798906</td>\n",
              "      <td>-0.592209</td>\n",
              "      <td>0.675735</td>\n",
              "      <td>-1.465937</td>\n",
              "      <td>-1.017152</td>\n",
              "      <td>-1.327133</td>\n",
              "      <td>0.234497</td>\n",
              "      <td>2.136158</td>\n",
              "      <td>-0.133456</td>\n",
              "      <td>-0.765450</td>\n",
              "      <td>1.911342</td>\n",
              "      <td>0.194763</td>\n",
              "      <td>-1.044708</td>\n",
              "      <td>-0.573287</td>\n",
              "      <td>-0.588544</td>\n",
              "      <td>-0.607044</td>\n",
              "      <td>-1.777504</td>\n",
              "      <td>-1.214199</td>\n",
              "      <td>1.847115</td>\n",
              "      <td>-1.140393</td>\n",
              "      <td>0.846537</td>\n",
              "      <td>-0.788540</td>\n",
              "      <td>1.279718</td>\n",
              "      <td>-0.867794</td>\n",
              "      <td>-0.339754</td>\n",
              "      <td>-0.613724</td>\n",
              "      <td>2.788058</td>\n",
              "      <td>-0.272200</td>\n",
              "      <td>-1.189595</td>\n",
              "      <td>0.476553</td>\n",
              "      <td>...</td>\n",
              "      <td>0.971159</td>\n",
              "      <td>0.449943</td>\n",
              "      <td>-0.181763</td>\n",
              "      <td>0.743806</td>\n",
              "      <td>1.760420</td>\n",
              "      <td>-0.639095</td>\n",
              "      <td>-1.182919</td>\n",
              "      <td>0.026045</td>\n",
              "      <td>0.462989</td>\n",
              "      <td>-0.077112</td>\n",
              "      <td>-0.053873</td>\n",
              "      <td>-1.242142</td>\n",
              "      <td>0.030350</td>\n",
              "      <td>1.308936</td>\n",
              "      <td>0.099558</td>\n",
              "      <td>1.330681</td>\n",
              "      <td>0.831325</td>\n",
              "      <td>0.222719</td>\n",
              "      <td>-2.118773</td>\n",
              "      <td>-1.145565</td>\n",
              "      <td>0.221516</td>\n",
              "      <td>-1.330549</td>\n",
              "      <td>0.203291</td>\n",
              "      <td>0.395083</td>\n",
              "      <td>1.080643</td>\n",
              "      <td>-1.764443</td>\n",
              "      <td>-1.766278</td>\n",
              "      <td>-0.327917</td>\n",
              "      <td>1.394914</td>\n",
              "      <td>1.527128</td>\n",
              "      <td>-1.392845</td>\n",
              "      <td>-1.240809</td>\n",
              "      <td>0.307651</td>\n",
              "      <td>0.862424</td>\n",
              "      <td>-0.088787</td>\n",
              "      <td>-0.353965</td>\n",
              "      <td>-1.440317</td>\n",
              "      <td>1.769964</td>\n",
              "      <td>1.779546</td>\n",
              "      <td>0.251972</td>\n",
              "    </tr>\n",
              "    <tr>\n",
              "      <th>2</th>\n",
              "      <td>1.503804</td>\n",
              "      <td>-3.602703</td>\n",
              "      <td>0.577026</td>\n",
              "      <td>1.023321</td>\n",
              "      <td>1.312655</td>\n",
              "      <td>3.078755</td>\n",
              "      <td>0.407834</td>\n",
              "      <td>1.583958</td>\n",
              "      <td>0.624124</td>\n",
              "      <td>-0.083586</td>\n",
              "      <td>4.548596</td>\n",
              "      <td>-0.737282</td>\n",
              "      <td>0.768121</td>\n",
              "      <td>-1.405696</td>\n",
              "      <td>0.248144</td>\n",
              "      <td>-0.062052</td>\n",
              "      <td>-0.845322</td>\n",
              "      <td>1.245253</td>\n",
              "      <td>-1.559315</td>\n",
              "      <td>-2.004710</td>\n",
              "      <td>-1.010197</td>\n",
              "      <td>-2.827828</td>\n",
              "      <td>0.942636</td>\n",
              "      <td>-0.228079</td>\n",
              "      <td>-0.540501</td>\n",
              "      <td>0.756521</td>\n",
              "      <td>-0.172178</td>\n",
              "      <td>-2.936674</td>\n",
              "      <td>2.462239</td>\n",
              "      <td>-1.297515</td>\n",
              "      <td>-0.349874</td>\n",
              "      <td>-1.239088</td>\n",
              "      <td>1.586554</td>\n",
              "      <td>-0.468575</td>\n",
              "      <td>1.991300</td>\n",
              "      <td>-2.019989</td>\n",
              "      <td>1.461250</td>\n",
              "      <td>-2.318907</td>\n",
              "      <td>-3.426884</td>\n",
              "      <td>0.645418</td>\n",
              "      <td>...</td>\n",
              "      <td>-0.500691</td>\n",
              "      <td>1.682466</td>\n",
              "      <td>1.283875</td>\n",
              "      <td>-0.900630</td>\n",
              "      <td>-0.039470</td>\n",
              "      <td>-0.423332</td>\n",
              "      <td>1.872681</td>\n",
              "      <td>-2.129486</td>\n",
              "      <td>0.311545</td>\n",
              "      <td>0.068233</td>\n",
              "      <td>-1.109609</td>\n",
              "      <td>-1.609189</td>\n",
              "      <td>0.155175</td>\n",
              "      <td>0.448419</td>\n",
              "      <td>0.262575</td>\n",
              "      <td>-0.790192</td>\n",
              "      <td>-0.637425</td>\n",
              "      <td>3.321697</td>\n",
              "      <td>-0.080048</td>\n",
              "      <td>-0.623244</td>\n",
              "      <td>1.319050</td>\n",
              "      <td>-2.564081</td>\n",
              "      <td>0.396766</td>\n",
              "      <td>0.909904</td>\n",
              "      <td>1.324104</td>\n",
              "      <td>-1.896039</td>\n",
              "      <td>-1.667509</td>\n",
              "      <td>-2.310678</td>\n",
              "      <td>4.671798</td>\n",
              "      <td>3.146747</td>\n",
              "      <td>-1.059531</td>\n",
              "      <td>-1.318092</td>\n",
              "      <td>1.013545</td>\n",
              "      <td>-0.927031</td>\n",
              "      <td>1.800370</td>\n",
              "      <td>-0.700358</td>\n",
              "      <td>-0.473103</td>\n",
              "      <td>2.870922</td>\n",
              "      <td>0.815842</td>\n",
              "      <td>0.595437</td>\n",
              "    </tr>\n",
              "    <tr>\n",
              "      <th>3</th>\n",
              "      <td>0.507549</td>\n",
              "      <td>-1.147239</td>\n",
              "      <td>0.388679</td>\n",
              "      <td>-0.301617</td>\n",
              "      <td>0.788179</td>\n",
              "      <td>0.067050</td>\n",
              "      <td>0.327527</td>\n",
              "      <td>1.762617</td>\n",
              "      <td>2.388988</td>\n",
              "      <td>1.953847</td>\n",
              "      <td>0.503259</td>\n",
              "      <td>0.821385</td>\n",
              "      <td>1.493097</td>\n",
              "      <td>-0.517032</td>\n",
              "      <td>-0.165637</td>\n",
              "      <td>-1.265650</td>\n",
              "      <td>-0.976586</td>\n",
              "      <td>0.599773</td>\n",
              "      <td>-0.433125</td>\n",
              "      <td>-2.048031</td>\n",
              "      <td>0.745509</td>\n",
              "      <td>-0.243487</td>\n",
              "      <td>-0.625436</td>\n",
              "      <td>-1.535937</td>\n",
              "      <td>-1.290078</td>\n",
              "      <td>-1.080523</td>\n",
              "      <td>0.036522</td>\n",
              "      <td>-1.361165</td>\n",
              "      <td>1.095034</td>\n",
              "      <td>-1.410925</td>\n",
              "      <td>1.881493</td>\n",
              "      <td>0.479683</td>\n",
              "      <td>0.369884</td>\n",
              "      <td>-0.220644</td>\n",
              "      <td>-0.021483</td>\n",
              "      <td>-0.634801</td>\n",
              "      <td>0.382186</td>\n",
              "      <td>-0.987853</td>\n",
              "      <td>-0.854619</td>\n",
              "      <td>-0.329107</td>\n",
              "      <td>...</td>\n",
              "      <td>2.136140</td>\n",
              "      <td>0.851381</td>\n",
              "      <td>-0.641524</td>\n",
              "      <td>0.157923</td>\n",
              "      <td>1.635191</td>\n",
              "      <td>-1.081926</td>\n",
              "      <td>-0.348470</td>\n",
              "      <td>0.730940</td>\n",
              "      <td>1.052075</td>\n",
              "      <td>-1.157489</td>\n",
              "      <td>0.695257</td>\n",
              "      <td>-0.231434</td>\n",
              "      <td>-1.107243</td>\n",
              "      <td>1.200682</td>\n",
              "      <td>-0.771153</td>\n",
              "      <td>1.065213</td>\n",
              "      <td>0.829353</td>\n",
              "      <td>0.470906</td>\n",
              "      <td>-1.752169</td>\n",
              "      <td>-0.702317</td>\n",
              "      <td>0.538821</td>\n",
              "      <td>0.183864</td>\n",
              "      <td>0.278136</td>\n",
              "      <td>-0.117674</td>\n",
              "      <td>0.853565</td>\n",
              "      <td>-0.904220</td>\n",
              "      <td>-1.696985</td>\n",
              "      <td>0.820874</td>\n",
              "      <td>1.222715</td>\n",
              "      <td>1.200499</td>\n",
              "      <td>-0.343116</td>\n",
              "      <td>-0.403862</td>\n",
              "      <td>-0.491196</td>\n",
              "      <td>-1.004862</td>\n",
              "      <td>0.314817</td>\n",
              "      <td>0.662512</td>\n",
              "      <td>-1.125968</td>\n",
              "      <td>2.380071</td>\n",
              "      <td>1.260137</td>\n",
              "      <td>0.957842</td>\n",
              "    </tr>\n",
              "    <tr>\n",
              "      <th>4</th>\n",
              "      <td>1.001973</td>\n",
              "      <td>-1.840333</td>\n",
              "      <td>-1.896838</td>\n",
              "      <td>0.445222</td>\n",
              "      <td>0.530917</td>\n",
              "      <td>0.248871</td>\n",
              "      <td>-1.043502</td>\n",
              "      <td>1.067319</td>\n",
              "      <td>0.351001</td>\n",
              "      <td>2.008231</td>\n",
              "      <td>0.449290</td>\n",
              "      <td>0.623015</td>\n",
              "      <td>0.462105</td>\n",
              "      <td>-1.521017</td>\n",
              "      <td>0.000500</td>\n",
              "      <td>-1.888612</td>\n",
              "      <td>0.198219</td>\n",
              "      <td>2.171026</td>\n",
              "      <td>-1.855737</td>\n",
              "      <td>-1.644413</td>\n",
              "      <td>2.049910</td>\n",
              "      <td>-0.306552</td>\n",
              "      <td>-0.821784</td>\n",
              "      <td>0.439966</td>\n",
              "      <td>-0.952529</td>\n",
              "      <td>-2.349629</td>\n",
              "      <td>1.168190</td>\n",
              "      <td>-1.456210</td>\n",
              "      <td>2.586136</td>\n",
              "      <td>-1.665002</td>\n",
              "      <td>0.147144</td>\n",
              "      <td>-0.651514</td>\n",
              "      <td>-0.066868</td>\n",
              "      <td>-0.703335</td>\n",
              "      <td>-0.507707</td>\n",
              "      <td>-1.507782</td>\n",
              "      <td>1.458941</td>\n",
              "      <td>-1.491042</td>\n",
              "      <td>-2.133775</td>\n",
              "      <td>0.083694</td>\n",
              "      <td>...</td>\n",
              "      <td>1.026536</td>\n",
              "      <td>1.757607</td>\n",
              "      <td>0.397265</td>\n",
              "      <td>1.461779</td>\n",
              "      <td>1.546709</td>\n",
              "      <td>-1.115306</td>\n",
              "      <td>-1.024439</td>\n",
              "      <td>1.358513</td>\n",
              "      <td>1.125635</td>\n",
              "      <td>1.052625</td>\n",
              "      <td>-1.629033</td>\n",
              "      <td>-2.371388</td>\n",
              "      <td>-0.290223</td>\n",
              "      <td>1.357499</td>\n",
              "      <td>-0.256757</td>\n",
              "      <td>-0.088839</td>\n",
              "      <td>2.740509</td>\n",
              "      <td>1.779910</td>\n",
              "      <td>-2.129094</td>\n",
              "      <td>0.546521</td>\n",
              "      <td>2.363982</td>\n",
              "      <td>-2.131836</td>\n",
              "      <td>0.221449</td>\n",
              "      <td>-0.358665</td>\n",
              "      <td>2.646334</td>\n",
              "      <td>-1.843588</td>\n",
              "      <td>-1.676504</td>\n",
              "      <td>-0.042541</td>\n",
              "      <td>0.624714</td>\n",
              "      <td>1.292201</td>\n",
              "      <td>-0.078560</td>\n",
              "      <td>-0.472756</td>\n",
              "      <td>-0.127975</td>\n",
              "      <td>0.656991</td>\n",
              "      <td>0.086458</td>\n",
              "      <td>-0.082106</td>\n",
              "      <td>-0.600936</td>\n",
              "      <td>1.749595</td>\n",
              "      <td>2.345284</td>\n",
              "      <td>-0.053091</td>\n",
              "    </tr>\n",
              "  </tbody>\n",
              "</table>\n",
              "<p>5 rows × 96 columns</p>\n",
              "</div>"
            ],
            "text/plain": [
              "         0         1         2   ...        93        94        95\n",
              "0  0.484237 -0.063660 -1.876067  ...  1.391378  0.542819  0.759497\n",
              "1  0.253900  0.040693 -0.700323  ...  1.769964  1.779546  0.251972\n",
              "2  1.503804 -3.602703  0.577026  ...  2.870922  0.815842  0.595437\n",
              "3  0.507549 -1.147239  0.388679  ...  2.380071  1.260137  0.957842\n",
              "4  1.001973 -1.840333 -1.896838  ...  1.749595  2.345284 -0.053091\n",
              "\n",
              "[5 rows x 96 columns]"
            ]
          },
          "metadata": {
            "tags": []
          },
          "execution_count": 26
        }
      ]
    },
    {
      "cell_type": "code",
      "metadata": {
        "id": "4HLdNSgdWDlH",
        "colab": {
          "base_uri": "https://localhost:8080/",
          "height": 265
        },
        "outputId": "e0884f8e-b23e-42fd-d893-ef6a92b5c295"
      },
      "source": [
        "fig, axes = plt.subplots(5,5, sharex=True, sharey=True)\n",
        "for i, ax in enumerate(axes.flatten()):\n",
        "    ax.hist(X[i], 50)\n",
        "\n",
        "plt.show()"
      ],
      "execution_count": null,
      "outputs": [
        {
          "output_type": "display_data",
          "data": {
            "image/png": "[encoded data removed]",
            "text/plain": [
              "<Figure size 432x288 with 25 Axes>"
            ]
          },
          "metadata": {
            "tags": [],
            "needs_background": "light"
          }
        }
      ]
    },
    {
      "cell_type": "markdown",
      "metadata": {
        "id": "Zt7_bU7pgats"
      },
      "source": [
        "## Data seems to follow Gaussian Distribution so we can use GaussianNB"
      ]
    },
    {
      "cell_type": "code",
      "metadata": {
        "id": "YTss7LWCr5I_"
      },
      "source": [
        "from sklearn.model_selection import train_test_split\n",
        "X_train, X_test, y_train, y_test = train_test_split(X_smote, y_smote, test_size=0.20, random_state=0)"
      ],
      "execution_count": 27,
      "outputs": []
    },
    {
      "cell_type": "code",
      "metadata": {
        "colab": {
          "base_uri": "https://localhost:8080/"
        },
        "id": "Ni9MiJu6so7a",
        "outputId": "2b1e3258-d52a-43f3-f725-a6c62436b535"
      },
      "source": [
        "X_train.shape, X_test.shape"
      ],
      "execution_count": 28,
      "outputs": [
        {
          "output_type": "execute_result",
          "data": {
            "text/plain": [
              "((45174, 96), (11294, 96))"
            ]
          },
          "metadata": {
            "tags": []
          },
          "execution_count": 28
        }
      ]
    },
    {
      "cell_type": "code",
      "metadata": {
        "id": "rG3UbN4BO1P7"
      },
      "source": [
        "from sklearn.naive_bayes import GaussianNB\n",
        "from sklearn.model_selection import GridSearchCV\n",
        "from sklearn.metrics import confusion_matrix, classification_report, accuracy_score"
      ],
      "execution_count": 38,
      "outputs": []
    },
    {
      "cell_type": "code",
      "metadata": {
        "id": "994-nNJiPdgJ"
      },
      "source": [
        "param_grid = {'var_smoothing': np.logspace(0,-9, num=100)}"
      ],
      "execution_count": null,
      "outputs": []
    },
    {
      "cell_type": "code",
      "metadata": {
        "id": "jvhoQ4OJFgXX"
      },
      "source": [
        "clf = GaussianNB()\n",
        "tuning = GridSearchCV(clf, param_grid, cv=5, verbose=2, n_jobs=-1)"
      ],
      "execution_count": null,
      "outputs": []
    },
    {
      "cell_type": "code",
      "metadata": {
        "id": "5zKSfXABKyyg",
        "colab": {
          "base_uri": "https://localhost:8080/"
        },
        "outputId": "8ac3114d-4da5-44bd-b8fa-d09189a7e178"
      },
      "source": [
        "tuning.fit(X_train, y_train)"
      ],
      "execution_count": null,
      "outputs": [
        {
          "output_type": "stream",
          "text": [
            "Fitting 5 folds for each of 100 candidates, totalling 500 fits\n"
          ],
          "name": "stdout"
        },
        {
          "output_type": "stream",
          "text": [
            "[Parallel(n_jobs=-1)]: Using backend LokyBackend with 2 concurrent workers.\n",
            "[Parallel(n_jobs=-1)]: Done 104 tasks      | elapsed:    2.3s\n",
            "[Parallel(n_jobs=-1)]: Done 500 out of 500 | elapsed:    9.7s finished\n"
          ],
          "name": "stderr"
        },
        {
          "output_type": "execute_result",
          "data": {
            "text/plain": [
              "GridSearchCV(cv=5, error_score=nan,\n",
              "             estimator=GaussianNB(priors=None, var_smoothing=1e-09),\n",
              "             iid='deprecated', n_jobs=-1,\n",
              "             param_grid={'var_smoothing': array([1.00000000e+00, 8.11130831e-01, 6.57933225e-01, 5.33669923e-01,\n",
              "       4.32876128e-01, 3.51119173e-01, 2.84803587e-01, 2.31012970e-01,\n",
              "       1.87381742e-01, 1.51991108e-01, 1.23284674e-01, 1.00000000e-01,\n",
              "       8.11130831e-02, 6.579...\n",
              "       5.33669923e-08, 4.32876128e-08, 3.51119173e-08, 2.84803587e-08,\n",
              "       2.31012970e-08, 1.87381742e-08, 1.51991108e-08, 1.23284674e-08,\n",
              "       1.00000000e-08, 8.11130831e-09, 6.57933225e-09, 5.33669923e-09,\n",
              "       4.32876128e-09, 3.51119173e-09, 2.84803587e-09, 2.31012970e-09,\n",
              "       1.87381742e-09, 1.51991108e-09, 1.23284674e-09, 1.00000000e-09])},\n",
              "             pre_dispatch='2*n_jobs', refit=True, return_train_score=False,\n",
              "             scoring=None, verbose=2)"
            ]
          },
          "metadata": {
            "tags": []
          },
          "execution_count": 184
        }
      ]
    },
    {
      "cell_type": "code",
      "metadata": {
        "id": "MN2OaGiKijQ3",
        "colab": {
          "base_uri": "https://localhost:8080/"
        },
        "outputId": "b4ba23f1-4b1d-4c48-8297-610744728785"
      },
      "source": [
        "tuning.best_estimator_"
      ],
      "execution_count": null,
      "outputs": [
        {
          "output_type": "execute_result",
          "data": {
            "text/plain": [
              "GaussianNB(priors=None, var_smoothing=1.0)"
            ]
          },
          "metadata": {
            "tags": []
          },
          "execution_count": 185
        }
      ]
    },
    {
      "cell_type": "code",
      "metadata": {
        "id": "O2ZaQlUkivOR",
        "colab": {
          "base_uri": "https://localhost:8080/"
        },
        "outputId": "e9148f82-8fb0-4188-a039-7d92bf35611e"
      },
      "source": [
        "tuning.best_score_"
      ],
      "execution_count": null,
      "outputs": [
        {
          "output_type": "execute_result",
          "data": {
            "text/plain": [
              "0.9172433774942078"
            ]
          },
          "metadata": {
            "tags": []
          },
          "execution_count": 186
        }
      ]
    },
    {
      "cell_type": "code",
      "metadata": {
        "id": "1JI7j__UiyC5"
      },
      "source": [
        "nb_clf = GaussianNB(var_smoothing=1).fit(X_train, y_train)"
      ],
      "execution_count": null,
      "outputs": []
    },
    {
      "cell_type": "code",
      "metadata": {
        "id": "eVIeiBlnpgBf"
      },
      "source": [
        "y_predicted = nb_clf.predict(X_test)"
      ],
      "execution_count": null,
      "outputs": []
    },
    {
      "cell_type": "code",
      "metadata": {
        "colab": {
          "base_uri": "https://localhost:8080/"
        },
        "id": "x3McKYDUtrJn",
        "outputId": "865a4f71-66c3-4548-9882-e4cf2563d590"
      },
      "source": [
        "accuracy_score(y_test, y_predicted)"
      ],
      "execution_count": null,
      "outputs": [
        {
          "output_type": "execute_result",
          "data": {
            "text/plain": [
              "0.9233536680744564"
            ]
          },
          "metadata": {
            "tags": []
          },
          "execution_count": 189
        }
      ]
    },
    {
      "cell_type": "code",
      "metadata": {
        "colab": {
          "base_uri": "https://localhost:8080/"
        },
        "id": "gKIpsVWmtw7y",
        "outputId": "809cf6fa-84ea-473f-9417-4a0ae525b072"
      },
      "source": [
        "confusion_matrix(y_test, y_predicted)"
      ],
      "execution_count": null,
      "outputs": [
        {
          "output_type": "execute_result",
          "data": {
            "text/plain": [
              "array([[5858,  127],\n",
              "       [ 363,   45]])"
            ]
          },
          "metadata": {
            "tags": []
          },
          "execution_count": 190
        }
      ]
    },
    {
      "cell_type": "code",
      "metadata": {
        "colab": {
          "base_uri": "https://localhost:8080/"
        },
        "id": "IzSDboRCt1yz",
        "outputId": "9aa6131e-27d4-49fe-a5b9-88db5bfa197d"
      },
      "source": [
        "print(classification_report(y_test, y_predicted))"
      ],
      "execution_count": null,
      "outputs": [
        {
          "output_type": "stream",
          "text": [
            "              precision    recall  f1-score   support\n",
            "\n",
            "           0       0.94      0.98      0.96      5985\n",
            "           1       0.26      0.11      0.16       408\n",
            "\n",
            "    accuracy                           0.92      6393\n",
            "   macro avg       0.60      0.54      0.56      6393\n",
            "weighted avg       0.90      0.92      0.91      6393\n",
            "\n"
          ],
          "name": "stdout"
        }
      ]
    },
    {
      "cell_type": "code",
      "metadata": {
        "id": "CP5HeVYcuMSY"
      },
      "source": [
        "file_name = \"gaussian_nb.pkl\"\n",
        "with open(file_name, 'wb') as file:  \n",
        "    pickle.dump(nb_clf, file)"
      ],
      "execution_count": null,
      "outputs": []
    },
    {
      "cell_type": "code",
      "metadata": {
        "id": "pUCvIgZU8WaZ"
      },
      "source": [
        "## using logistic regression"
      ],
      "execution_count": null,
      "outputs": []
    },
    {
      "cell_type": "code",
      "metadata": {
        "id": "jpaDCO148ZXe"
      },
      "source": [
        "from sklearn.ensemble import RandomForestClassifier\n",
        "from sklearn.model_selection import RandomizedSearchCV"
      ],
      "execution_count": 29,
      "outputs": []
    },
    {
      "cell_type": "code",
      "metadata": {
        "id": "Z0cfA-Od8iPp"
      },
      "source": [
        "forest_clf = RandomForestClassifier()\n",
        "forest_params_grid = {'max_depth': [10, 20, 30, 40, 50, 60, 70, 80, 90, 100, None],\n",
        "                     'min_samples_split': [x for x in range(2,5)],\n",
        "                     'max_leaf_nodes': [2, 3, 4, None],\n",
        "                     'min_samples_leaf': [x for x in range(1,5)],\n",
        "                     'n_estimators' : [50,70,90, 100, 120, 130, 150, 160, 170, 190],\n",
        "                     }"
      ],
      "execution_count": 30,
      "outputs": []
    },
    {
      "cell_type": "code",
      "metadata": {
        "id": "yhfEquYb9q6m"
      },
      "source": [
        "forest_tuning = RandomizedSearchCV(forest_clf, forest_params_grid, cv=5, verbose=2, n_jobs=-1, n_iter=300)"
      ],
      "execution_count": 31,
      "outputs": []
    },
    {
      "cell_type": "code",
      "metadata": {
        "colab": {
          "base_uri": "https://localhost:8080/"
        },
        "id": "rLhLXizxVxHS",
        "outputId": "73e491b6-b264-44ad-9084-e7f2041d29ab"
      },
      "source": [
        "forest_tuning.fit(X_train, y_train)"
      ],
      "execution_count": 32,
      "outputs": [
        {
          "output_type": "stream",
          "text": [
            "Fitting 5 folds for each of 300 candidates, totalling 1500 fits\n"
          ],
          "name": "stdout"
        },
        {
          "output_type": "stream",
          "text": [
            "[Parallel(n_jobs=-1)]: Using backend LokyBackend with 2 concurrent workers.\n",
            "[Parallel(n_jobs=-1)]: Done  37 tasks      | elapsed:  7.3min\n",
            "[Parallel(n_jobs=-1)]: Done 158 tasks      | elapsed: 36.3min\n",
            "[Parallel(n_jobs=-1)]: Done 361 tasks      | elapsed: 97.3min\n",
            "[Parallel(n_jobs=-1)]: Done 644 tasks      | elapsed: 155.7min\n",
            "[Parallel(n_jobs=-1)]: Done 1009 tasks      | elapsed: 227.6min\n",
            "[Parallel(n_jobs=-1)]: Done 1454 tasks      | elapsed: 319.3min\n",
            "[Parallel(n_jobs=-1)]: Done 1500 out of 1500 | elapsed: 327.8min finished\n"
          ],
          "name": "stderr"
        },
        {
          "output_type": "execute_result",
          "data": {
            "text/plain": [
              "RandomizedSearchCV(cv=5, error_score=nan,\n",
              "                   estimator=RandomForestClassifier(bootstrap=True,\n",
              "                                                    ccp_alpha=0.0,\n",
              "                                                    class_weight=None,\n",
              "                                                    criterion='gini',\n",
              "                                                    max_depth=None,\n",
              "                                                    max_features='auto',\n",
              "                                                    max_leaf_nodes=None,\n",
              "                                                    max_samples=None,\n",
              "                                                    min_impurity_decrease=0.0,\n",
              "                                                    min_impurity_split=None,\n",
              "                                                    min_samples_leaf=1,\n",
              "                                                    min_samples_split=2,\n",
              "                                                    min_weight_fraction_leaf=0.0,\n",
              "                                                    n_estimators=100,\n",
              "                                                    n_jobs...\n",
              "                   iid='deprecated', n_iter=300, n_jobs=-1,\n",
              "                   param_distributions={'max_depth': [10, 20, 30, 40, 50, 60,\n",
              "                                                      70, 80, 90, 100, None],\n",
              "                                        'max_leaf_nodes': [2, 3, 4, None],\n",
              "                                        'min_samples_leaf': [1, 2, 3, 4],\n",
              "                                        'min_samples_split': [2, 3, 4],\n",
              "                                        'n_estimators': [50, 70, 90, 100, 120,\n",
              "                                                         130, 150, 160, 170,\n",
              "                                                         190]},\n",
              "                   pre_dispatch='2*n_jobs', random_state=None, refit=True,\n",
              "                   return_train_score=False, scoring=None, verbose=2)"
            ]
          },
          "metadata": {
            "tags": []
          },
          "execution_count": 32
        }
      ]
    },
    {
      "cell_type": "code",
      "metadata": {
        "colab": {
          "base_uri": "https://localhost:8080/"
        },
        "id": "I6hATit7-Mwn",
        "outputId": "15422aae-6178-4f3c-c53c-a2180cf05ef6"
      },
      "source": [
        "forest_tuning.best_score_"
      ],
      "execution_count": 33,
      "outputs": [
        {
          "output_type": "execute_result",
          "data": {
            "text/plain": [
              "0.9619913800401582"
            ]
          },
          "metadata": {
            "tags": []
          },
          "execution_count": 33
        }
      ]
    },
    {
      "cell_type": "code",
      "metadata": {
        "colab": {
          "base_uri": "https://localhost:8080/"
        },
        "id": "fEEXQ6zE_ZfC",
        "outputId": "c21423e7-086f-4102-ff83-15eb4f42f9fb"
      },
      "source": [
        "forest_tuning.best_params_"
      ],
      "execution_count": 34,
      "outputs": [
        {
          "output_type": "execute_result",
          "data": {
            "text/plain": [
              "{'max_depth': 70,\n",
              " 'max_leaf_nodes': None,\n",
              " 'min_samples_leaf': 1,\n",
              " 'min_samples_split': 2,\n",
              " 'n_estimators': 130}"
            ]
          },
          "metadata": {
            "tags": []
          },
          "execution_count": 34
        }
      ]
    },
    {
      "cell_type": "code",
      "metadata": {
        "id": "F2QJg0Q8_k26"
      },
      "source": [
        "forest_clf = RandomForestClassifier(max_depth = 70, max_leaf_nodes = None, min_samples_leaf = 1, min_samples_split = 2, n_estimators =130).fit(X_train, y_train)"
      ],
      "execution_count": 35,
      "outputs": []
    },
    {
      "cell_type": "code",
      "metadata": {
        "id": "135nT_Fa_rIJ"
      },
      "source": [
        "y_predicted = forest_clf.predict(X_test)"
      ],
      "execution_count": 36,
      "outputs": []
    },
    {
      "cell_type": "code",
      "metadata": {
        "colab": {
          "base_uri": "https://localhost:8080/"
        },
        "id": "pEDDJEDV6_oz",
        "outputId": "0161da33-127b-4e35-fdc8-cf8212fd30f5"
      },
      "source": [
        "accuracy_score(y_test, y_predicted)"
      ],
      "execution_count": 39,
      "outputs": [
        {
          "output_type": "execute_result",
          "data": {
            "text/plain": [
              "0.9723747122365858"
            ]
          },
          "metadata": {
            "tags": []
          },
          "execution_count": 39
        }
      ]
    },
    {
      "cell_type": "code",
      "metadata": {
        "colab": {
          "base_uri": "https://localhost:8080/"
        },
        "id": "OqLMKrBy6-Yv",
        "outputId": "17b51a30-11d7-400a-f99e-9e5df8903bd6"
      },
      "source": [
        "confusion_matrix(y_test, y_predicted)"
      ],
      "execution_count": 40,
      "outputs": [
        {
          "output_type": "execute_result",
          "data": {
            "text/plain": [
              "array([[5813,  117],\n",
              "       [ 195, 5169]])"
            ]
          },
          "metadata": {
            "tags": []
          },
          "execution_count": 40
        }
      ]
    },
    {
      "cell_type": "code",
      "metadata": {
        "colab": {
          "base_uri": "https://localhost:8080/"
        },
        "id": "Ghcfg_fl7as7",
        "outputId": "dcf3ea3a-f8a5-41e6-9825-570405c76d1d"
      },
      "source": [
        "print(classification_report(y_test, y_predicted))"
      ],
      "execution_count": 41,
      "outputs": [
        {
          "output_type": "stream",
          "text": [
            "              precision    recall  f1-score   support\n",
            "\n",
            "           0       0.97      0.98      0.97      5930\n",
            "           1       0.98      0.96      0.97      5364\n",
            "\n",
            "    accuracy                           0.97     11294\n",
            "   macro avg       0.97      0.97      0.97     11294\n",
            "weighted avg       0.97      0.97      0.97     11294\n",
            "\n"
          ],
          "name": "stdout"
        }
      ]
    },
    {
      "cell_type": "code",
      "metadata": {
        "id": "DShd4nPk8mFq"
      },
      "source": [
        "file_name_pkl = \"random_forest2.pkl\"\n",
        "with open(file_name_pkl, 'wb') as file:  \n",
        "    pickle.dump(forest_clf, file)"
      ],
      "execution_count": 42,
      "outputs": []
    },
    {
      "cell_type": "code",
      "metadata": {
        "id": "D9sPjl-D8qJi"
      },
      "source": [
        ""
      ],
      "execution_count": null,
      "outputs": []
    }
  ]
}